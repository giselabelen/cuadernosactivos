{
 "cells": [
  {
   "cell_type": "code",
   "execution_count": 2,
   "metadata": {
    "collapsed": false,
    "deletable": true,
    "editable": true,
    "hide_input": false,
    "run_control": {
     "frozen": false,
     "read_only": false
    }
   },
   "outputs": [],
   "source": [
    "from ipywidgets import *\n",
    "from IPython.display import display\n",
    "\n",
    "button1 = widgets.Button(description=\"Opción 1\")\n",
    "button2 = widgets.Button(description=\"Opción 2\")\n",
    "text = Text(value='Hello World!', disabled=True)\n",
    "\n",
    "\n",
    "def on_button_clicked(b):\n",
    "    text.value = \"Elejiste \"+ b.description\n",
    "\n"
   ]
  },
  {
   "cell_type": "code",
   "execution_count": 3,
   "metadata": {
    "collapsed": false,
    "deletable": true,
    "editable": true,
    "hide_input": false,
    "run_control": {
     "frozen": false,
     "read_only": false
    }
   },
   "outputs": [],
   "source": [
    "display(button1,button2)\n",
    "\n",
    "button1.on_click(on_button_clicked)\n",
    "button2.on_click(on_button_clicked)"
   ]
  },
  {
   "cell_type": "code",
   "execution_count": 4,
   "metadata": {
    "collapsed": true,
    "deletable": true,
    "editable": true,
    "hide_input": false,
    "run_control": {
     "frozen": false,
     "read_only": false
    }
   },
   "outputs": [],
   "source": [
    "display(text)"
   ]
  },
  {
   "cell_type": "code",
   "execution_count": 5,
   "metadata": {
    "collapsed": true,
    "deletable": true,
    "editable": true,
    "hide_input": false
   },
   "outputs": [],
   "source": [
    "text2 = Text()\n",
    "button3 = widgets.Button()\n",
    "display(text2)\n",
    "mylink = jslink((text2, 'value'), (button3, 'description'))"
   ]
  },
  {
   "cell_type": "code",
   "execution_count": 6,
   "metadata": {
    "collapsed": false,
    "deletable": true,
    "editable": true,
    "hide_input": false
   },
   "outputs": [],
   "source": [
    "display(button3)"
   ]
  },
  {
   "cell_type": "markdown",
   "metadata": {
    "deletable": true,
    "editable": true
   },
   "source": [
    "lalala"
   ]
  },
  {
   "cell_type": "code",
   "execution_count": 1,
   "metadata": {
    "collapsed": false,
    "deletable": true,
    "editable": true
   },
   "outputs": [
    {
     "data": {
      "application/javascript": [
       "\n",
       "  var jc_html = \"\";\n",
       "  var jc_array = Object.keys(IPython.notebook.keyboard_manager.command_shortcuts.actions._actions);\n",
       "  for (var i=0;i<jc_array.length;i++) {\n",
       "    jc_html = jc_html + jc_array[i] + \"<br >\";\n",
       "  }\n",
       "  element.html(jc_html);\n",
       "  "
      ],
      "text/plain": [
       "<IPython.core.display.Javascript object>"
      ]
     },
     "execution_count": 1,
     "metadata": {},
     "output_type": "execute_result"
    }
   ],
   "source": [
    "from IPython.core.display import Javascript\n",
    "\n",
    "js = \"\"\"\n",
    "  var jc_html = \"\";\n",
    "  var jc_array = Object.keys(IPython.notebook.keyboard_manager.command_shortcuts.actions._actions);\n",
    "  for (var i=0;i<jc_array.length;i++) {\n",
    "    jc_html = jc_html + jc_array[i] + \"<br >\";\n",
    "  }\n",
    "  element.html(jc_html);\n",
    "  \"\"\"\n",
    "\n",
    "Javascript(data=js, lib=None, css=None)"
   ]
  }
 ],
 "metadata": {
  "celltoolbar": "Edit Metadata",
  "kernelspec": {
   "display_name": "Python 3",
   "language": "python",
   "name": "python3"
  },
  "language_info": {
   "codemirror_mode": {
    "name": "ipython",
    "version": 3
   },
   "file_extension": ".py",
   "mimetype": "text/x-python",
   "name": "python",
   "nbconvert_exporter": "python",
   "pygments_lexer": "ipython3",
   "version": "3.5.2"
  },
  "widgets": {
   "state": {
    "0509b7a0415d49d1a4eec4dae4ecb8b3": {
     "views": [
      {
       "cell_index": 4
      }
     ]
    },
    "58381f488027425198f2c23fe11bda03": {
     "views": [
      {
       "cell_index": 1
      }
     ]
    },
    "5a83725ecfb44dfa9c22a1c355d67bfd": {
     "views": [
      {
       "cell_index": 1
      }
     ]
    },
    "9596a3df8d39498cbc3364ff99a49528": {
     "views": [
      {
       "cell_index": 2
      }
     ]
    },
    "f55bffab4b244301afefa6906cc9c817": {
     "views": [
      {
       "cell_index": 3
      }
     ]
    }
   },
   "version": "1.2.0"
  }
 },
 "nbformat": 4,
 "nbformat_minor": 2
}
