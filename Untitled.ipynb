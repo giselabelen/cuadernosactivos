{
 "cells": [
  {
   "cell_type": "code",
   "execution_count": 1,
   "metadata": {
    "collapsed": false,
    "hide_input": true,
    "run_control": {
     "frozen": false,
     "read_only": false
    }
   },
   "outputs": [],
   "source": [
    "from ipywidgets import *\n",
    "from IPython.display import display\n",
    "\n",
    "button1 = widgets.Button(description=\"Opción 1\")\n",
    "button2 = widgets.Button(description=\"Opción 2\")\n",
    "text = Text(value='Hello World!', disabled=True)\n",
    "\n",
    "\n",
    "def on_button_clicked(b):\n",
    "    text.value = \"Elejiste \"+ b.description\n",
    "\n"
   ]
  },
  {
   "cell_type": "code",
   "execution_count": 2,
   "metadata": {
    "collapsed": false,
    "hide_input": true,
    "run_control": {
     "frozen": false,
     "read_only": false
    }
   },
   "outputs": [],
   "source": [
    "display(button1,button2)\n",
    "\n",
    "button1.on_click(on_button_clicked)\n",
    "button2.on_click(on_button_clicked)"
   ]
  },
  {
   "cell_type": "code",
   "execution_count": 3,
   "metadata": {
    "collapsed": true,
    "hide_input": true,
    "run_control": {
     "frozen": false,
     "read_only": false
    }
   },
   "outputs": [],
   "source": [
    "display(text)"
   ]
  }
 ],
 "metadata": {
  "kernelspec": {
   "display_name": "Python 3",
   "language": "python",
   "name": "python3"
  },
  "language_info": {
   "codemirror_mode": {
    "name": "ipython",
    "version": 3
   },
   "file_extension": ".py",
   "mimetype": "text/x-python",
   "name": "python",
   "nbconvert_exporter": "python",
   "pygments_lexer": "ipython3",
   "version": "3.6.0"
  },
  "widgets": {
   "state": {
    "81d6f1da0cbd40598283a50d83c9c7a8": {
     "views": [
      {
       "cell_index": 1
      }
     ]
    },
    "a08a92d91d4444d781818a0ad273af80": {
     "views": [
      {
       "cell_index": 1
      }
     ]
    },
    "e08927b0365d478d9872018dc3c8aafa": {
     "views": [
      {
       "cell_index": 2
      }
     ]
    }
   },
   "version": "1.2.0"
  }
 },
 "nbformat": 4,
 "nbformat_minor": 2
}
